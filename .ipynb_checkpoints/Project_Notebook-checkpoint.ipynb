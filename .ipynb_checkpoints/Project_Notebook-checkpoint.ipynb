{
 "cells": [
  {
   "cell_type": "markdown",
   "id": "fb8a552a",
   "metadata": {},
   "source": [
    "For each molecule there are three sets of calculations corresponding to the three levels of theory described in the paper. These are separated into subfolders labelled:\n",
    "\n",
    "MM - molecular mechanics geometries, mPW1PW91 NMR Calculations\n",
    "\n",
    "Opt - DFT optimised geometries, mPW1PW91 NMR Calculations\n",
    "\n",
    "Opt_E - DFT optimised geometries, mPW1PW91 NMR Calculations, M062X Single point energies\n",
    "\n",
    "\n",
    "Within these subfolders the X_Y.sdf files correspond to the input molecular geometries for each diastereomer (Y) of the molecule (X),  Y = 1 always corresponds to the correct diastereomer.\n",
    "The X_Y.mae files describe the macromodel conformational search for diastereomer.\n",
    "\n",
    "$\\textbf{The handwritten NMR description is stored in the file XNMR}$\n",
    "\n",
    "The raw proton and carbon NMR  files are stored in the Proton and Carbon subfolders of the NMR_folder directory at this level\n",
    "\n"
   ]
  },
  {
   "cell_type": "markdown",
   "id": "eb6e6739",
   "metadata": {},
   "source": [
    "The DFT calculation files are also then organised into subsubfolders\n",
    "\n",
    "$\\textbf{nmr - NMR DFT calculations}$\n",
    "\n",
    "opt – DFT geometry optimisation calculations (Opt and Opt_E only)\n",
    "\n",
    "e – DFT M062X single point energy caculations (Opt_E only)\n",
    "\n",
    "These files are in the Gaussian input and output file format. The input (.com) file names all have the form X_YginpZ.com this is read as:\n",
    "\n",
    "molecule X, diastereomer Y, Gaussian input, conformer Z.\n",
    "\n",
    "For each (.com) input file there is a corresponding (.out) output file with the same file name.\n",
    "\n",
    "Within each set of calculations (MM, Opt or Opt_E) for each molecule the diastereomer and conformer labels are self consistent.\n",
    "\n",
    "\n"
   ]
  },
  {
   "cell_type": "markdown",
   "id": "5018f470",
   "metadata": {},
   "source": [
    "Take in chemical structure "
   ]
  },
  {
   "cell_type": "code",
   "execution_count": null,
   "id": "de02f000",
   "metadata": {},
   "outputs": [],
   "source": []
  },
  {
   "cell_type": "code",
   "execution_count": null,
   "id": "61532c1f",
   "metadata": {},
   "outputs": [],
   "source": []
  }
 ],
 "metadata": {
  "kernelspec": {
   "display_name": "Python 3 (ipykernel)",
   "language": "python",
   "name": "python3"
  },
  "language_info": {
   "codemirror_mode": {
    "name": "ipython",
    "version": 3
   },
   "file_extension": ".py",
   "mimetype": "text/x-python",
   "name": "python",
   "nbconvert_exporter": "python",
   "pygments_lexer": "ipython3",
   "version": "3.10.9"
  }
 },
 "nbformat": 4,
 "nbformat_minor": 5
}
