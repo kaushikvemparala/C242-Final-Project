{
 "cells": [
  {
   "cell_type": "markdown",
   "id": "fb8a552a",
   "metadata": {},
   "source": [
    "# Bandgap Prediction"
   ]
  },
  {
   "cell_type": "markdown",
   "id": "eb6e6739",
   "metadata": {},
   "source": [
    "Using QM9 data set to predict the bandgap of molecules using LSTM and GNN's"
   ]
  },
  {
   "cell_type": "code",
   "execution_count": 2,
   "id": "673c6786",
   "metadata": {},
   "outputs": [],
   "source": [
    "from torch_geometric.datasets import QM9\n",
    "from torch_geometric.loader import DataLoader as GraphDataLoader\n",
    "import torch\n",
    "import torch.nn as nn\n",
    "import pandas as pd\n",
    "import numpy as np\n",
    "from torch.utils.data import Dataset\n",
    "from sklearn.preprocessing import OneHotEncoder\n",
    "import numpy as np\n",
    "import matplotlib.pyplot as plt\n",
    "from tqdm import tqdm\n",
    "from sklearn.preprocessing import OneHotEncoder\n",
    "import torch\n",
    "import torch.nn as nn\n",
    "from torch.utils.data import Dataset, DataLoader\n",
    "from rdkit import RDLogger\n",
    "from torch_geometric.nn import GCNConv, global_mean_pool\n",
    "import torch.nn.functional as F"
   ]
  },
  {
   "cell_type": "code",
   "execution_count": 3,
   "id": "fdbb1c28",
   "metadata": {},
   "outputs": [
    {
     "name": "stdout",
     "output_type": "stream",
     "text": [
      "              SMILES                                        Coordinates  \\\n",
      "0  [H]C([H])([H])[H]  [[tensor(-0.0127), tensor(1.0858), tensor(0.00...   \n",
      "1       [H]N([H])[H]  [[tensor(-0.0404), tensor(1.0241), tensor(0.06...   \n",
      "2            [H]O[H]  [[tensor(-0.0344), tensor(0.9775), tensor(0.00...   \n",
      "3          [H]C#C[H]  [[tensor(0.5995), tensor(0.), tensor(1.)], [te...   \n",
      "4             [H]C#N  [[tensor(-0.0133), tensor(1.1325), tensor(0.00...   \n",
      "\n",
      "        HOMO      LUMO       Egap  \n",
      "0 -10.549854  3.186453  13.736308  \n",
      "1  -6.993326  2.255824   9.249149  \n",
      "2  -7.967494  1.869422   9.836916  \n",
      "3  -7.741639  1.376896   9.118535  \n",
      "4  -9.806983  0.519737  10.329442  \n"
     ]
    }
   ],
   "source": [
    "def load_qm9(path=\"./QM9\"):\n",
    "    return QM9(path)\n",
    "\n",
    "qm9 = load_qm9()\n",
    "smiles = []\n",
    "coords = []\n",
    "homo_lumo_gaps = []\n",
    "stock_gap = []\n",
    "homo = []\n",
    "lumo = []\n",
    "\n",
    "for entry in qm9:\n",
    "    smiles.append(entry.smiles)  # Get SMILES notation\n",
    "    coords.append(entry.pos)     # Get atomic coordinates\n",
    "    homo_energy = entry.y[0, 2].item()  # Get HOMO energy from the tensor\n",
    "    homo.append(homo_energy)\n",
    "    lumo_energy = entry.y[0, 3].item()  # Get LUMO energy from the tensor\n",
    "    lumo.append(lumo_energy)\n",
    "    gap_stock = entry.y[0, 4].item() \n",
    "    gap = lumo_energy - homo_energy  # Calculate the bandgap\n",
    "    stock_gap.append(gap_stock)\n",
    "    homo_lumo_gaps.append(gap)  # Store the bandgap\n",
    "# Creating a DataFrame\n",
    "qm9_data = pd.DataFrame({\n",
    "    \"SMILES\": smiles,\n",
    "    \"Coordinates\": coords,\n",
    "    \"HOMO\" : homo,\n",
    "    \"LUMO\" : lumo,\n",
    "    \"Egap\" : stock_gap\n",
    "})\n",
    "\n",
    "print(qm9_data.head())"
   ]
  },
  {
   "cell_type": "code",
   "execution_count": 4,
   "id": "5acfdfcf",
   "metadata": {},
   "outputs": [],
   "source": [
    "def pad_start_end_token(smiles):\n",
    "    \"\"\"\n",
    "    Pad a list of SMILES with \"SOS\" and \"EOS\" token\n",
    "    \n",
    "    Parameters\n",
    "    ----------\n",
    "    smiles: list of str\n",
    "        A list containing SMILES strings to pad\n",
    "    \n",
    "    Returns\n",
    "    ------\n",
    "    padded: list of list of str\n",
    "        A list containing padded SMILES strings. Example: [['SOS', 'C', 'EOS'], ...]\n",
    "    \"\"\"\n",
    "    padded = []\n",
    "    for smile in smiles:\n",
    "        padded.append(['SOS'] + list(smile) + ['EOS'])\n",
    "    \n",
    "    return padded"
   ]
  },
  {
   "cell_type": "code",
   "execution_count": 5,
   "id": "b510a1f0",
   "metadata": {},
   "outputs": [],
   "source": [
    "padded_smiles = pad_start_end_token(qm9_data[\"SMILES\"])\n",
    "vocab = np.unique(np.concatenate(padded_smiles))"
   ]
  },
  {
   "cell_type": "code",
   "execution_count": 6,
   "id": "a74099d3",
   "metadata": {},
   "outputs": [],
   "source": [
    "class SmilesDataset(Dataset):\n",
    "    def __init__(self, smiles, vocab, y):\n",
    "        \n",
    "        self.vocab = np.array(vocab, dtype=str).reshape(-1, 1)\n",
    "        \n",
    "        self.encoder = OneHotEncoder()\n",
    "        # fit the encoder\n",
    "        self.encoder.fit(self.vocab)\n",
    "\n",
    "        self.y = y\n",
    "        \n",
    "        # one-hot encoding\n",
    "        self.data = [\n",
    "            torch.tensor(\n",
    "                self.encoder.transform(np.array(s).reshape(-1, 1)).toarray(),\n",
    "                dtype=torch.float\n",
    "            ) for s in smiles\n",
    "        ]\n",
    "        \n",
    "        self.data = nn.utils.rnn.pad_sequence(self.data, batch_first=True)\n",
    "        self.X = self.data[:, :-1, :]\n",
    "        \n",
    "    def __len__(self):\n",
    "        return int(self.data.shape[0])\n",
    "    \n",
    "    def __getitem__(self, idx):\n",
    "        return self.X[idx], self.y[idx]"
   ]
  },
  {
   "cell_type": "code",
   "execution_count": 7,
   "id": "ac98ebd2",
   "metadata": {},
   "outputs": [],
   "source": [
    "data_homo = SmilesDataset(padded_smiles, vocab, qm9_data[\"HOMO\"])\n",
    "data_homo_lite = SmilesDataset(padded_smiles[:50000], vocab, qm9_data[\"HOMO\"][:50000])\n",
    "\n",
    "data_lumo = SmilesDataset(padded_smiles, vocab, qm9_data[\"LUMO\"])\n",
    "data_lumo_lite = SmilesDataset(padded_smiles[:50000], vocab, qm9_data[\"LUMO\"][:50000])\n",
    "input_size = data_homo.vocab.shape[0]"
   ]
  },
  {
   "cell_type": "code",
   "execution_count": 8,
   "id": "3ad64ecf",
   "metadata": {},
   "outputs": [],
   "source": [
    "RDLogger.DisableLog(\"rdApp.*\")\n",
    "\n",
    "class Trainer:\n",
    "    def __init__(self, model, opt_method, learning_rate, batch_size, epoch, l2):\n",
    "        self.model = model\n",
    "        if opt_method == \"sgdm\":\n",
    "            self.optimizer = torch.optim.SGD(model.parameters(), learning_rate, momentum=0.9)\n",
    "        elif opt_method == \"adam\":\n",
    "            self.optimizer = torch.optim.Adam(model.parameters(), learning_rate, weight_decay=l2)\n",
    "        else:\n",
    "            raise NotImplementedError(\"This optimization is not supported\")\n",
    "\n",
    "        self.epoch = epoch\n",
    "        self.batch_size = batch_size\n",
    "\n",
    "    def train(self, train_data, draw_curve=True):\n",
    "        self.encoder = train_data.encoder\n",
    "\n",
    "        train_loader = DataLoader(train_data, batch_size=self.batch_size, shuffle=True)\n",
    "        train_loss_list, train_acc_list = [], []\n",
    "\n",
    "        loss_func = nn.L1Loss()\n",
    "        for n in tqdm(range(self.epoch), leave=False):\n",
    "            self.model.train()\n",
    "            epoch_loss, epoch_err = 0.0, 0.0\n",
    "            for X_batch, y_batch in train_loader:\n",
    "                batch_importance = y_batch.shape[0] / len(train_data)\n",
    "                y_pred, _ = self.model(X_batch)\n",
    "                batch_loss = loss_func(y_pred.flatten(), y_batch.float())\n",
    "                self.optimizer.zero_grad()\n",
    "                batch_loss.backward()\n",
    "                self.optimizer.step()\n",
    "\n",
    "                batch_err = torch.mean(y_batch.float() ** 2 - y_pred.flatten() ** 2)\n",
    "\n",
    "                epoch_err += batch_err.detach().cpu().item() * batch_importance\n",
    "                epoch_loss += batch_loss.detach().cpu().item() * batch_importance\n",
    "\n",
    "            train_acc_list.append(epoch_err)\n",
    "            train_loss_list.append(epoch_loss)\n",
    "\n",
    "        if draw_curve:\n",
    "            x_axis = np.arange(self.epoch)\n",
    "            fig, axes = plt.subplots(1, 2, figsize=(10, 4))\n",
    "            axes[0].plot(x_axis, train_loss_list, label=\"Train\")\n",
    "            axes[0].set_title(\"Loss\")\n",
    "            axes[0].legend()\n",
    "            axes[1].plot(x_axis, train_acc_list, label='Train')\n",
    "            axes[1].set_title(\"Error\")\n",
    "            axes[1].legend()\n",
    "\n",
    "    def sample(self, num_seq=10):\n",
    "        self.model.eval()\n",
    "        seqs = []\n",
    "        with torch.no_grad():\n",
    "            for _ in tqdm(range(num_seq), leave=False):\n",
    "                chars = ['SOS']\n",
    "                hidden = self.model.init_hidden(1)\n",
    "                while chars[-1] != 'EOS':\n",
    "                    input_encoding = self.encoder.transform(np.array([chars[-1]]).reshape(-1, 1)).toarray()\n",
    "                    input_encoding = torch.tensor(input_encoding, dtype=torch.float).reshape(1, 1, -1)\n",
    "                    out, hidden = self.model(input_encoding, hidden)\n",
    "\n",
    "                    prob = out.detach().numpy().flatten()\n",
    "                    prob /= np.sum(prob)\n",
    "\n",
    "                    index = np.random.choice(self.model.input_size, p=prob)\n",
    "                    out_encoding = np.zeros((1, self.model.input_size))\n",
    "                    out_encoding[0, index] = 1.0\n",
    "                    char = data.encoder.inverse_transform(out_encoding).flatten().tolist()[0]\n",
    "                    chars.append(char)\n",
    "                seqs.append(''.join(chars[1:-1]))\n",
    "        return seqs"
   ]
  },
  {
   "cell_type": "code",
   "execution_count": 9,
   "id": "05161df0",
   "metadata": {},
   "outputs": [],
   "source": [
    "class LSTM(nn.Module):\n",
    "    def __init__(self, input_size, output_size, hidden_size, num_layers=1):\n",
    "        super().__init__()\n",
    "\n",
    "        self.input_size = input_size\n",
    "        self.hidden_size = hidden_size\n",
    "        self.output_size = output_size\n",
    "        self.num_layers = num_layers\n",
    "\n",
    "        self.lstm = nn.LSTM(input_size, hidden_size, num_layers, batch_first=True)\n",
    "        self.fc = nn.Linear(hidden_size, output_size)\n",
    "\n",
    "    def forward(self, x, h=None):\n",
    "        out, h = self.lstm(x, h)\n",
    "        out = out[:, -1, :]\n",
    "\n",
    "        out = self.fc(out)\n",
    "        return out, h\n",
    "\n",
    "    def predict(self, x):\n",
    "        # Check if the input tensor has the right number of dimensions\n",
    "        if x.ndim != 3:\n",
    "            raise ValueError(f\"Expected input to be a 3D tensor, got {x.ndim}D tensor instead.\")\n",
    "\n",
    "        self.eval()  \n",
    "        with torch.no_grad():  \n",
    "            h = self.init_hidden(x.size(0))\n",
    "            out, _ = self.forward(x, h)\n",
    "            out = out.squeeze()  # Remove the batch dimension\n",
    "\n",
    "            return out\n",
    "\n",
    "    def init_hidden(self, batch_size):\n",
    "        return (torch.zeros(self.num_layers, batch_size, self.hidden_size), \n",
    "                torch.zeros(self.num_layers, batch_size, self.hidden_size))"
   ]
  },
  {
   "cell_type": "code",
   "execution_count": 1,
   "id": "49911950",
   "metadata": {},
   "outputs": [
    {
     "ename": "NameError",
     "evalue": "name 'LSTM' is not defined",
     "output_type": "error",
     "traceback": [
      "\u001b[0;31m---------------------------------------------------------------------------\u001b[0m",
      "\u001b[0;31mNameError\u001b[0m                                 Traceback (most recent call last)",
      "Cell \u001b[0;32mIn[1], line 1\u001b[0m\n\u001b[0;32m----> 1\u001b[0m model_homo \u001b[38;5;241m=\u001b[39m \u001b[43mLSTM\u001b[49m(input_size, \u001b[38;5;241m1\u001b[39m, \u001b[38;5;241m32\u001b[39m, \u001b[38;5;241m2\u001b[39m)\n\u001b[1;32m      2\u001b[0m model_lumo \u001b[38;5;241m=\u001b[39m LSTM(input_size, \u001b[38;5;241m1\u001b[39m, \u001b[38;5;241m32\u001b[39m, \u001b[38;5;241m2\u001b[39m)\n\u001b[1;32m      3\u001b[0m trainer_homo \u001b[38;5;241m=\u001b[39m Trainer(model_homo, \u001b[38;5;124m\"\u001b[39m\u001b[38;5;124madam\u001b[39m\u001b[38;5;124m\"\u001b[39m, \u001b[38;5;241m1e-3\u001b[39m, \u001b[38;5;241m128\u001b[39m, \u001b[38;5;241m5\u001b[39m, \u001b[38;5;241m1e-5\u001b[39m)\n",
      "\u001b[0;31mNameError\u001b[0m: name 'LSTM' is not defined"
     ]
    }
   ],
   "source": [
    "model_homo = LSTM(input_size, 1, 32, 2)\n",
    "model_lumo = LSTM(input_size, 1, 32, 2)\n",
    "trainer_homo = Trainer(model_homo, \"adam\", 1e-3, 128, 5, 1e-5)\n",
    "trainer_lumo = Trainer(model_lumo, \"adam\", 1e-3, 128, 5, 1e-5)\n",
    "\n",
    "trainer_homo.train(data_homo_lite)"
   ]
  },
  {
   "cell_type": "code",
   "execution_count": null,
   "id": "6b8591b5",
   "metadata": {},
   "outputs": [
    {
     "name": "stderr",
     "output_type": "stream",
     "text": [
      "                                             \r"
     ]
    },
    {
     "data": {
      "image/png": "[encoded data removed]",
      "text/plain": [
       "<Figure size 1000x400 with 2 Axes>"
      ]
     },
     "metadata": {},
     "output_type": "display_data"
    }
   ],
   "source": [
    "trainer_lumo.train(data_lumo_lite)"
   ]
  },
  {
   "cell_type": "code",
   "execution_count": null,
   "id": "bfe1dfcb",
   "metadata": {},
   "outputs": [
    {
     "name": "stderr",
     "output_type": "stream",
     "text": [
      "/var/folders/0z/n9w742pd3bx5nnd8vs21vzf80000gp/T/ipykernel_81445/1050370127.py:6: UserWarning: To copy construct from a tensor, it is recommended to use sourceTensor.clone().detach() or sourceTensor.clone().detach().requires_grad_(True), rather than torch.tensor(sourceTensor).\n",
      "  model_homo.predict(torch.tensor(data_homo[50001][0]).unsqueeze(0))\n"
     ]
    },
    {
     "data": {
      "text/plain": [
       "tensor(-6.5593)"
      ]
     },
     "execution_count": 92,
     "metadata": {},
     "output_type": "execute_result"
    }
   ],
   "source": [
    "target_homo = qm9_data[\"HOMO\"][0]\n",
    "target_lumo = qm9_data[\"LUMO\"][0]\n",
    "# print([data_homo[50001][0]])\n",
    "# print(torch.tensor([data_homo[50001][0]]))\n",
    "# model_homo.predict(torch.tensor([data_homo[50001][0]]))\n",
    "model_homo.predict(torch.tensor(data_homo[50001][0]).unsqueeze(0))"
   ]
  },
  {
   "cell_type": "markdown",
   "id": "e5bd1fa0",
   "metadata": {},
   "source": [
    "# GNN"
   ]
  },
  {
   "cell_type": "markdown",
   "id": "302ab9ad",
   "metadata": {},
   "source": [
    "We got the code to process the SMILE strings into a graph from here: https://www.blopig.com/blog/2022/02/how-to-turn-a-smiles-string-into-a-molecular-graph-for-pytorch-geometric/\\"
   ]
  },
  {
   "cell_type": "code",
   "execution_count": 50,
   "id": "03ab348c",
   "metadata": {},
   "outputs": [],
   "source": [
    "gnn_data = []\n",
    "\n",
    "target_idx = 4\n",
    "for data in qm9:\n",
    "    data.y = data.y[:, target_idx]\n",
    "    gnn_data.append(data)\n",
    "\n",
    "\n",
    "# Split the dataset into training and testing sets\n",
    "train_dataset = gnn_data[:50000]\n",
    "test_dataset = gnn_data[50001:60000]\n",
    "\n",
    "train_loader = GraphDataLoader(train_dataset, batch_size=64, shuffle=True)\n",
    "test_loader = GraphDataLoader(test_dataset, batch_size=64, shuffle=False)\n"
   ]
  },
  {
   "cell_type": "code",
   "execution_count": 51,
   "id": "8b1f43a6",
   "metadata": {},
   "outputs": [],
   "source": [
    "class GNN(torch.nn.Module):\n",
    "    def __init__(self, hidden_channels):\n",
    "        super(GNN, self).__init__()\n",
    "        self.conv1 = GCNConv(qm9.num_node_features, hidden_channels)\n",
    "        self.conv2 = GCNConv(hidden_channels, hidden_channels)\n",
    "        self.lin = torch.nn.Linear(hidden_channels, 1)  # Outputs one value per graph\n",
    "\n",
    "    def forward(self, data):\n",
    "        x, edge_index, batch = data.x, data.edge_index, data.batch\n",
    "        x = F.relu(self.conv1(x, edge_index))\n",
    "        x = F.relu(self.conv2(x, edge_index))\n",
    "        x = global_mean_pool(x, batch)  # Global pooling\n",
    "        x = self.lin(x)\n",
    "        return x"
   ]
  },
  {
   "cell_type": "code",
   "execution_count": 54,
   "id": "270e8d7a",
   "metadata": {},
   "outputs": [
    {
     "name": "stdout",
     "output_type": "stream",
     "text": [
      "Epoch: 1, Loss: 1.2572\n",
      "Epoch: 2, Loss: 0.8601\n",
      "Epoch: 3, Loss: 0.8494\n",
      "Epoch: 4, Loss: 0.8334\n",
      "Epoch: 5, Loss: 0.8146\n",
      "Epoch: 6, Loss: 0.7986\n",
      "Epoch: 7, Loss: 0.7881\n",
      "Epoch: 8, Loss: 0.7819\n",
      "Epoch: 9, Loss: 0.7777\n"
     ]
    },
    {
     "data": {
      "image/png": "[encoded data removed]",
      "text/plain": [
       "<Figure size 640x480 with 1 Axes>"
      ]
     },
     "metadata": {},
     "output_type": "display_data"
    }
   ],
   "source": [
    "model = GNN(hidden_channels=64)\n",
    "optimizer = torch.optim.Adam(model.parameters(), lr=0.001)\n",
    "loss_fn = torch.nn.L1Loss()\n",
    "\n",
    "def train():\n",
    "    model.train()\n",
    "    total_loss = 0\n",
    "    for data in train_loader:\n",
    "        optimizer.zero_grad()\n",
    "        pred = model(data)\n",
    "        target = data.y.view(-1, 1).float()\n",
    "        loss = loss_fn(pred, target)\n",
    "        loss.backward()\n",
    "        optimizer.step()\n",
    "        total_loss += loss.item()\n",
    "    return total_loss / len(train_loader)\n",
    "\n",
    "losses = []\n",
    "\n",
    "# Training the model\n",
    "for epoch in range(1, 10):\n",
    "    loss = train()\n",
    "    losses.append(loss)\n",
    "    print(f'Epoch: {epoch}, Loss: {loss:.4f}')\n",
    "\n",
    "plt.plot(np.arange(9), losses)\n",
    "plt.xlabel(\"Epoch\")\n",
    "plt.ylabel(\"Loss\")\n",
    "plt.title(\"Training curve\")\n",
    "plt.show()"
   ]
  }
 ],
 "metadata": {
  "kernelspec": {
   "display_name": "c142",
   "language": "python",
   "name": "python3"
  },
  "language_info": {
   "codemirror_mode": {
    "name": "ipython",
    "version": 3
   },
   "file_extension": ".py",
   "mimetype": "text/x-python",
   "name": "python",
   "nbconvert_exporter": "python",
   "pygments_lexer": "ipython3",
   "version": "3.11.2"
  }
 },
 "nbformat": 4,
 "nbformat_minor": 5
}
