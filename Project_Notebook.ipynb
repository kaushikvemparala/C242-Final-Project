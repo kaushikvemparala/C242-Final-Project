{
 "cells": [
  {
   "cell_type": "markdown",
   "id": "fb8a552a",
   "metadata": {},
   "source": [
    "# Bandgap Prediction"
   ]
  },
  {
   "cell_type": "markdown",
   "id": "eb6e6739",
   "metadata": {},
   "source": [
    "Using QM9 data set to predict the bandgap of molecules using LSTM and GNN's"
   ]
  },
  {
   "cell_type": "code",
   "execution_count": 14,
   "id": "673c6786",
   "metadata": {},
   "outputs": [],
   "source": [
    "from torch_geometric.datasets import QM9\n",
    "from torch_geometric.loader import DataLoader as GraphDataLoader\n",
    "import torch\n",
    "import itertools\n",
    "from rdkit import Chem\n",
    "from rdkit.Chem import AllChem\n",
    "import pandas as pd"
   ]
  },
  {
   "cell_type": "code",
   "execution_count": 32,
   "id": "fdbb1c28",
   "metadata": {},
   "outputs": [
    {
     "name": "stdout",
     "output_type": "stream",
     "text": [
      "              SMILES                                        Coordinates  \\\n",
      "0  [H]C([H])([H])[H]  [[tensor(-0.0127), tensor(1.0858), tensor(0.00...   \n",
      "1       [H]N([H])[H]  [[tensor(-0.0404), tensor(1.0241), tensor(0.06...   \n",
      "2            [H]O[H]  [[tensor(-0.0344), tensor(0.9775), tensor(0.00...   \n",
      "3          [H]C#C[H]  [[tensor(0.5995), tensor(0.), tensor(1.)], [te...   \n",
      "4             [H]C#N  [[tensor(-0.0133), tensor(1.1325), tensor(0.00...   \n",
      "\n",
      "   HOMO-LUMO Gap      STOCK  \n",
      "0      13.736308  13.736308  \n",
      "1       9.249150   9.249149  \n",
      "2       9.836916   9.836916  \n",
      "3       9.118535   9.118535  \n",
      "4      10.326720  10.329442  \n"
     ]
    }
   ],
   "source": [
    "def load_qm9(path=\"./QM9\"):\n",
    "    return QM9(path)\n",
    "\n",
    "qm9 = load_qm9()\n",
    "smiles = []\n",
    "coords = []\n",
    "homo_lumo_gaps = []\n",
    "stock_gap = []\n",
    "\n",
    "for entry in qm9:\n",
    "    smiles.append(entry.smiles)  # Get SMILES notation\n",
    "    coords.append(entry.pos)     # Get atomic coordinates\n",
    "    homo_energy = entry.y[0, 2].item()  # Get HOMO energy from the tensor\n",
    "    lumo_energy = entry.y[0, 3].item()  # Get LUMO energy from the tensor\n",
    "    gap_stock = entry.y[0, 4].item() \n",
    "    gap = lumo_energy - homo_energy  # Calculate the bandgap\n",
    "    stock_gap.append(gap_stock)\n",
    "    homo_lumo_gaps.append(gap)  # Store the bandgap\n",
    "# Creating a DataFrame for better visualization and handling\n",
    "data = pd.DataFrame({\n",
    "    \"SMILES\": smiles,\n",
    "    \"Coordinates\": coords,\n",
    "    \"HOMO-LUMO Gap\": homo_lumo_gaps,\n",
    "    \"STOCK\" : stock_gap\n",
    "})\n",
    "\n",
    "# Print the first few rows of the DataFrame to verify\n",
    "print(data.head())\n"
   ]
  },
  {
   "cell_type": "code",
   "execution_count": null,
   "id": "4b336c1a",
   "metadata": {},
   "outputs": [],
   "source": []
  }
 ],
 "metadata": {
  "kernelspec": {
   "display_name": "c142",
   "language": "python",
   "name": "python3"
  },
  "language_info": {
   "codemirror_mode": {
    "name": "ipython",
    "version": 3
   },
   "file_extension": ".py",
   "mimetype": "text/x-python",
   "name": "python",
   "nbconvert_exporter": "python",
   "pygments_lexer": "ipython3",
   "version": "3.11.2"
  }
 },
 "nbformat": 4,
 "nbformat_minor": 5
}
